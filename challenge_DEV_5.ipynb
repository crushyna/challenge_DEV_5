{
 "cells": [
  {
   "cell_type": "code",
   "execution_count": 1,
   "metadata": {},
   "outputs": [],
   "source": [
    "#import sys\n",
    "#!{sys.executable} -m pip install openpyxl"
   ]
  },
  {
   "cell_type": "code",
   "execution_count": 2,
   "metadata": {},
   "outputs": [],
   "source": [
    "import pandas as pd\n",
    "import numpy as np"
   ]
  },
  {
   "cell_type": "markdown",
   "metadata": {},
   "source": [
    "## User input here:"
   ]
  },
  {
   "cell_type": "code",
   "execution_count": 3,
   "metadata": {},
   "outputs": [],
   "source": [
    "input_table = \"table.xlsx\"\n",
    "columns_file = \"Columns_order file.txt\"\n",
    "\n",
    "output_filename = \"multisheet_result_table.xlsx\"\n",
    "sheet_1_name = \"Sheet_1\"\n",
    "sheet_2_name = \"Sheet_2\""
   ]
  },
  {
   "cell_type": "code",
   "execution_count": 4,
   "metadata": {},
   "outputs": [
    {
     "data": {
      "text/plain": [
       "65"
      ]
     },
     "execution_count": 4,
     "metadata": {},
     "output_type": "execute_result"
    }
   ],
   "source": [
    "text_file = open(columns_file, \"r\")\n",
    "all_lines = text_file.read().split('\\n')\n",
    "len(all_lines)"
   ]
  },
  {
   "cell_type": "code",
   "execution_count": 5,
   "metadata": {},
   "outputs": [],
   "source": [
    "column_names = [w.replace(' # moved to the end', ' ') for w in all_lines]\n",
    "column_names = [x for x in column_names if not x.startswith('#')]\n",
    "column_names = map(str.strip, column_names)"
   ]
  },
  {
   "cell_type": "code",
   "execution_count": 6,
   "metadata": {},
   "outputs": [],
   "source": [
    "dataframe = pd.read_excel(input_table, engine='openpyxl')"
   ]
  },
  {
   "cell_type": "code",
   "execution_count": 7,
   "metadata": {},
   "outputs": [],
   "source": [
    "output_dataframe = dataframe[column_names]"
   ]
  },
  {
   "cell_type": "code",
   "execution_count": 8,
   "metadata": {},
   "outputs": [
    {
     "name": "stdout",
     "output_type": "stream",
     "text": [
      "65\n",
      "49\n"
     ]
    }
   ],
   "source": [
    "dataframe_columns_1 = list(dataframe.columns)\n",
    "print(len(dataframe_columns_1))\n",
    "dataframe_columns_2 = list(output_dataframe.columns)\n",
    "print(len(dataframe_columns_2))"
   ]
  },
  {
   "cell_type": "code",
   "execution_count": 9,
   "metadata": {},
   "outputs": [
    {
     "data": {
      "text/plain": [
       "65"
      ]
     },
     "execution_count": 9,
     "metadata": {},
     "output_type": "execute_result"
    }
   ],
   "source": [
    "resulting_columns_list = list(dataframe_columns_2)\n",
    "resulting_columns_list.extend(x for x in dataframe_columns_1 if x not in resulting_columns_list)\n",
    "len(resulting_columns_list)"
   ]
  },
  {
   "cell_type": "code",
   "execution_count": 10,
   "metadata": {},
   "outputs": [],
   "source": [
    "dataframe = pd.read_excel(input_table, engine='openpyxl')\n",
    "final_dataframe = dataframe[resulting_columns_list]"
   ]
  },
  {
   "cell_type": "code",
   "execution_count": 11,
   "metadata": {},
   "outputs": [],
   "source": [
    "sheet_1 = final_dataframe.query('(IMPACT in [\"HIGH\", \"MODERATE\"]) and (PICK == 1) and (oncoKB_cancer_gene_PanT == \"Yes\")')\n",
    "sheet_2 = final_dataframe.query('(IMPACT in [\"HIGH\", \"MODERATE\"]) and (PICK == 1)')"
   ]
  },
  {
   "cell_type": "code",
   "execution_count": 12,
   "metadata": {},
   "outputs": [],
   "source": [
    "with pd.ExcelWriter(output_filename) as writer:\n",
    "    sheet_1.to_excel(writer, sheet_name = sheet_1_name, index = False)\n",
    "    sheet_2.to_excel(writer, sheet_name = sheet_2_name, index = False)"
   ]
  },
  {
   "cell_type": "markdown",
   "metadata": {},
   "source": [
    "# Done!"
   ]
  },
  {
   "cell_type": "code",
   "execution_count": null,
   "metadata": {},
   "outputs": [],
   "source": []
  }
 ],
 "metadata": {
  "kernelspec": {
   "display_name": "Python 3",
   "language": "python",
   "name": "python3"
  },
  "language_info": {
   "codemirror_mode": {
    "name": "ipython",
    "version": 3
   },
   "file_extension": ".py",
   "mimetype": "text/x-python",
   "name": "python",
   "nbconvert_exporter": "python",
   "pygments_lexer": "ipython3",
   "version": "3.8.3"
  }
 },
 "nbformat": 4,
 "nbformat_minor": 4
}
